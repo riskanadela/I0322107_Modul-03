{
 "cells": [
  {
   "attachments": {},
   "cell_type": "markdown",
   "metadata": {},
   "source": [
    "### Instruksi:\n",
    "1. Buka buku Learn Python 3 The Hard Way.\n",
    "2. Di bawah ini ada Example dari beberapa Bab yang memuat Operator.\n",
    "3. Silakan kalian bisa latihan dengan melakukan dari yang diinstruksikan pada bagian \"Study Drill\" yang ada di bawah Example\n",
    "4. Bisa dibaca-baca bukunya agar mendapatkan wawasan lebih dari apa yang asisten berikan"
   ]
  },
  {
   "attachments": {},
   "cell_type": "markdown",
   "metadata": {},
   "source": [
    " "
   ]
  },
  {
   "attachments": {},
   "cell_type": "markdown",
   "metadata": {},
   "source": [
    "3: Numbers and Math"
   ]
  },
  {
   "cell_type": "code",
   "execution_count": 1,
   "metadata": {},
   "outputs": [
    {
     "name": "stdout",
     "output_type": "stream",
     "text": [
      "I will now count my chickens:\n",
      "Hens 30.0\n",
      "Roosters 97\n",
      "Now I will count the eggs:\n",
      "6.75\n",
      "Is it true that 3 + 2 < 5 - 7?\n",
      "False\n",
      "What is 3 + 2? 5\n",
      "What is 5 - 7? -2\n",
      "Oh, that's why it's False.\n",
      "How about some more.\n",
      "Is it greater? True\n",
      "Is it greater or equal? True\n",
      "Is it less or equal? False\n"
     ]
    }
   ],
   "source": [
    "# ex3: Numbers and Math\n",
    "\n",
    "print(\"I will now count my chickens:\")\n",
    "\n",
    "print(\"Hens\", 25 + 30 / 6)\n",
    "print(\"Roosters\", 100 -25 * 3 % 4)\n",
    "\n",
    "print(\"Now I will count the eggs:\")\n",
    "\n",
    "print(3 + 2 + 1 - 5 + 4 % 2 - 1 / 4 + 6)\n",
    "\n",
    "print(\"Is it true that 3 + 2 < 5 - 7?\")\n",
    "\n",
    "print(3 + 2 < 5 - 7)\n",
    "\n",
    "print(\"What is 3 + 2?\", 3 + 2)\n",
    "\n",
    "print(\"What is 5 - 7?\", 5 - 7)\n",
    "\n",
    "print(\"Oh, that's why it's False.\")\n",
    "\n",
    "print(\"How about some more.\")\n",
    "\n",
    "print(\"Is it greater?\", 5 > -2)\n",
    "print(\"Is it greater or equal?\", 5 >= -2)\n",
    "print(\"Is it less or equal?\", 5 <= -2)"
   ]
  },
  {
   "cell_type": "code",
   "execution_count": null,
   "metadata": {},
   "outputs": [],
   "source": [
    "# Kerjakan Study Drill 3) di sini\n",
    "print(\"I will now count my chickens:\")\n",
    "# menggunakan string untuk mem-print kata-kata di atas \n",
    "\n",
    "print(\"Hens\", 25 + 30 / 6)\n",
    "# menghitung jumlah hens dengan menggunakan penjumlahan (+) dan pembagian (/)\n",
    "\n",
    "print(\"Roosters\", 100 -25 * 3 % 4)\n",
    "# menghitung jumlah roosters dengan menggunakan tanda pengurangan (-), perkalian (*) dan (%) dimana persen ini mengartikan modulus yaitu x dibagi y sisa j, maka hasil % adalah j\n",
    "\n",
    "print(\"Now I will count the eggs:\")\n",
    "# menggunakan string untuk mem-print kata-kata di atas \n",
    "\n",
    "print(3 + 2 + 1 - 5 + 4 % 2 - 1 / 4 + 6)\n",
    "# Mem-print dan menghitung menggunkan operasi penjumlahan, pengurangan, modulus dsn pembagian\n",
    "\n",
    "print(\"Is it true that 3 + 2 < 5 - 7?\")\n",
    "# mem-print pertanyaan \n",
    "\n",
    "print(3 + 2 < 5 - 7)\n",
    "# mem-print hasil dari pertanyaan sebelumnya menggunakan hasil berupa boolean\n",
    "\n",
    "print(\"What is 3 + 2?\", 3 + 2)\n",
    "# mem-print dan menghitung hasil dari pertanyaan berupa operasi penjumlahan\n",
    "\n",
    "print(\"What is 5 - 7?\", 5 - 7)\n",
    "# mem-print pertanyaan dan menghitung hasil dari pertanyaan berupa operasi pengurangan\n",
    "\n",
    "print(\"Oh, that's why it's False.\")\n",
    "# mem-prinr pernyataan dari hasil penghitungan sebelumnya\n",
    "\n",
    "print(\"How about some more.\")\n",
    "# mem-print kata menggunakan string\n",
    "\n",
    "print(\"Is it greater?\", 5 > -2)\n",
    "# mem-print dan menghitung operasi perbandingan atau relasi ('>' lebih besar dari) dengan hasil boolean \n",
    "\n",
    "print(\"Is it greater or equal?\", 5 >= -2)\n",
    "# mem-print dan menghitung operasi perbandingan atau relasi ('>=' lebih besar dari sama dengan) dengan hasil boolean \n",
    "\n",
    "print(\"Is it less or equal?\", 5 <= -2)\n",
    "# mem-print dan menghitung operasi perbandingan atau relasi ('<=' lebih kecil dari sama dengan) dengan hasil boolean "
   ]
  },
  {
   "cell_type": "code",
   "execution_count": 16,
   "metadata": {},
   "outputs": [
    {
     "name": "stdout",
     "output_type": "stream",
     "text": [
      "I will now count my chickens:\n",
      "Hens : 30.0\n",
      "Rooster : 97\n",
      "Now I will count the eggs:\n",
      "6.75\n",
      "Is it true that 3 + 2 < 5 - 7?\n",
      "False\n",
      "What is 3 + 2? 5\n",
      "What is 5 - 7? -2\n",
      "Oh, that's why it's False.\n",
      "How about some more.\n",
      "Is it greater? True\n",
      "Is it greater or equal? True\n",
      "Is it less or equal? False\n"
     ]
    }
   ],
   "source": [
    "# menggunakan string untuk mem-print kata-kata di atas \n",
    "print(\"I will now count my chickens:\")\n",
    "\n",
    "# memasukkan nilai variabel a,b, dan c\n",
    "a = int(input(\"nilai a yang ingin dimasukkan =\"))\n",
    "b = int(input(\"nilai b yang ingin dimasukkan =\"))\n",
    "c = int(input(\"nilai c yang ingin dimasukkan =\"))\n",
    "\n",
    "# mem-print dan menghitung hasil dari jumlah hens dengan rumus a ditambah b dibagi c\n",
    "jumlah_hens = a + b / c\n",
    "print(\"Hens :\", jumlah_hens)\n",
    "\n",
    "# menghitung jumlah roosters dengan menggunakan tanda pengurangan (-), perkalian (*) dan (%) dimana persen ini mengartikan modulus yaitu x dibagi y sisa j, maka hasil % adalah j\n",
    "d = int(input(\"nilai d yang ingin dimasukkan =\"))\n",
    "e = int(input(\"nilai e yang ingin dimasukkan =\"))\n",
    "f = int(input(\"nilai f yang ingin dimasukkan =\"))\n",
    "g = int(input(\"nilai g yang ingin dimasukkan =\"))\n",
    "\n",
    "jumlah_roosters = d - e * f % g\n",
    "print(\"Rooster :\", jumlah_roosters)\n",
    "\n",
    "\n",
    "# menggunakan string untuk mem-print kata-kata di atas \n",
    "print(\"Now I will count the eggs:\")\n",
    "\n",
    "# Mem-print dan menghitung menggunkan operasi penjumlahan, pengurangan, modulus dsn pembagian\n",
    "print(3 + 2 + 1 - 5 + 4 % 2 - 1 / 4 + 6)\n",
    "\n",
    "# mem-print pertanyaan \n",
    "print(\"Is it true that 3 + 2 < 5 - 7?\")\n",
    "# mem-print hasil dari pertanyaan sebelumnya menggunakan hasil berupa boolean\n",
    "print(3 + 2 < 5 - 7)\n",
    "\n",
    "\n",
    "print(\"What is 3 + 2?\", 3 + 2)\n",
    "# mem-print dan menghitung hasil dari pertanyaan berupa operasi penjumlahan\n",
    "\n",
    "print(\"What is 5 - 7?\", 5 - 7)\n",
    "# mem-print pertanyaan dan menghitung hasil dari pertanyaan berupa operasi pengurangan\n",
    "\n",
    "print(\"Oh, that's why it's False.\")\n",
    "# mem-prinr pernyataan dari hasil penghitungan sebelumnya\n",
    "\n",
    "print(\"How about some more.\")\n",
    "# mem-print kata menggunakan string\n",
    "\n",
    "print(\"Is it greater?\", 5 > -2)\n",
    "# mem-print dan menghitung operasi perbandingan atau relasi ('>' lebih besar dari) dengan hasil boolean \n",
    "\n",
    "print(\"Is it greater or equal?\", 5 >= -2)\n",
    "# mem-print dan menghitung operasi perbandingan atau relasi ('>=' lebih besar dari sama dengan) dengan hasil boolean \n",
    "\n",
    "print(\"Is it less or equal?\", 5 <= -2)\n",
    "# mem-print dan menghitung operasi perbandingan atau relasi ('<=' lebih kecil dari sama dengan) dengan hasil boolean "
   ]
  },
  {
   "attachments": {},
   "cell_type": "markdown",
   "metadata": {},
   "source": [
    "4: Variables and Names"
   ]
  },
  {
   "cell_type": "code",
   "execution_count": 3,
   "metadata": {},
   "outputs": [
    {
     "name": "stdout",
     "output_type": "stream",
     "text": [
      "There are 100 cars available.\n",
      "There are only 30 drivers available.\n",
      "There will be 70 empty cars today.\n",
      "We can transport 120 people today.\n",
      "We have 90 to carpool today.\n",
      "We need to put about 3.0 in each car.\n"
     ]
    }
   ],
   "source": [
    "cars = 100\n",
    "space_in_a_car = 4\n",
    "drivers = 30\n",
    "passengers = 90\n",
    "cars_not_driven = cars - drivers\n",
    "cars_driven = drivers\n",
    "carpool_capacity = cars_driven * space_in_a_car\n",
    "average_passengers_per_car = passengers / cars_driven\n",
    "\n",
    "print(\"There are\", cars, \"cars available.\")\n",
    "print(\"There are only\", drivers, \"drivers available.\")\n",
    "print(\"There will be\", cars_not_driven, \"empty cars today.\")\n",
    "print(\"We can transport\", carpool_capacity, \"people today.\")\n",
    "print(\"We have\", passengers, \"to carpool today.\")\n",
    "print(\"We need to put about\", average_passengers_per_car, \"in each car.\")"
   ]
  },
  {
   "cell_type": "code",
   "execution_count": 6,
   "metadata": {},
   "outputs": [
    {
     "name": "stdout",
     "output_type": "stream",
     "text": [
      "There are 100 cars available.\n",
      "There are only 30 drivers available.\n",
      "There will be 70 empty cars today.\n",
      "We can transport 120 people today.\n",
      "We have 90 to carpool today.\n",
      "We need to put about 3.0 in each car.\n"
     ]
    }
   ],
   "source": [
    "# Kerjakan Study Drill 4) di sini\n",
    "# When I wrote this program the first time I had a mistake, and Python told me about it like this: Traceback ( most recent c a l l l a s t ) : F i l e ”ex4 . py ” , li n e 8 , in <module> average_passengers_per_car = ca r _pool _capaci t y / passenger NameError : name ’ ca r _pool _capaci t y ’ i s not defined\n",
    "# Hal itu terjadi karena pada perintah di line 8 di tuliskan car_pool_capacity, dimana variabel itu berbeda dengan variabel yang telah dituliskan diatasnya sehingga saat di run terjadi error\n",
    "# 1. I used 4.0 for space_in_a_car, but is that necessary? What happens if it’s just 4? \n",
    "# Jawaban no 1. penggunaan 4.0 atau titik adalah untuk menunjukan floating point sehingga menunjukan adanya angka desimal, jika hanya di tulis 4 maka pada hasil tidak akan 120.0 melainkan hanya 120\n",
    "\n",
    "# "
   ]
  },
  {
   "attachments": {},
   "cell_type": "markdown",
   "metadata": {},
   "source": [
    "### Instruksi:\n",
    "1. Tulis ulang kode contoh di atasnya dengan sebelumnya artikan dengan command (#)"
   ]
  },
  {
   "attachments": {},
   "cell_type": "markdown",
   "metadata": {},
   "source": [
    "Contoh\n",
    "\n",
    "Tulis program Python yang dapat menghitung luas dari Lingkaran dengan jari-jari yang diinput!"
   ]
  },
  {
   "cell_type": "code",
   "execution_count": null,
   "metadata": {},
   "outputs": [],
   "source": [
    "from math import pi\n",
    "r = float(input (\"Input the radius of the circle : \"))\n",
    "print (\"The area of the circle with radius \" + str(r) + \" is: \" + str(pi * r**2))"
   ]
  },
  {
   "cell_type": "code",
   "execution_count": null,
   "metadata": {},
   "outputs": [],
   "source": [
    "# import pi dari math library\n",
    "from math import pi\n",
    "\n",
    "# membuat variabel untuk user menginputkan nilai jari-jari\n",
    "r = float(input (\"Masukkan jari-jari lingkaran: \"))\n",
    "\n",
    "# Mem-print nilai luas lingkaran sekaligus menghitungnya\n",
    "print (\"Luas lingkaran dengan jari-jari \" + str(r) + \" adalah: \" + str(pi * r**2))"
   ]
  },
  {
   "attachments": {},
   "cell_type": "markdown",
   "metadata": {},
   "source": [
    "5: Tulis program Python untuk tambah, kurang, kali, dan bagi dari dua buah pecahan"
   ]
  },
  {
   "cell_type": "code",
   "execution_count": 10,
   "metadata": {},
   "outputs": [
    {
     "name": "stdout",
     "output_type": "stream",
     "text": [
      "2/3\n",
      "2/3 + 3/7 = 23/21\n",
      "2/3 - 3/7 = 5/21\n",
      "2/3 * 3/7 = 2/7\n",
      "2/3 / 3/7 = 14/9\n"
     ]
    }
   ],
   "source": [
    "import fractions\n",
    "\n",
    "f1 = fractions.Fraction(2, 3)\n",
    "f2 = fractions.Fraction(3, 7)\n",
    "\n",
    "print('{} + {} = {}'.format(f1, f2, f1 + f2))\n",
    "print('{} - {} = {}'.format(f1, f2, f1 - f2))\n",
    "print('{} * {} = {}'.format(f1, f2, f1 * f2))\n",
    "print('{} / {} = {}'.format(f1, f2, f1 / f2))"
   ]
  },
  {
   "cell_type": "code",
   "execution_count": null,
   "metadata": {},
   "outputs": [],
   "source": [
    "# Kerjakan Study Drill 5 di sini\n",
    "\n",
    "# Import frakction (Fraction, infinite-precision, rational numbers) (pecahan)\n",
    "import fractions\n",
    "\n",
    "# membuat atau memasukan Variabel f1 (pecahan) berupa 2/3\n",
    "f1 = fractions.Fraction(2, 3)\n",
    "\n",
    "# membuat atau memasukkan Variabel f2 (pecahan) berupa 3/7\n",
    "f2 = fractions.Fraction(3, 7)\n",
    "\n",
    "# mem-print sekaligus menghitung penjumlahan f1 dan f2\n",
    "print('{} + {} = {}'.format(f1, f2, f1 + f2))\n",
    "\n",
    "# memprint sekaligus menghitung pengurangan f1 dna f2\n",
    "print('{} - {} = {}'.format(f1, f2, f1 - f2))\n",
    "\n",
    "# memprint sekaligus Menghitung perkalian f1 dan f2\n",
    "print('{} * {} = {}'.format(f1, f2, f1 * f2))\n",
    "\n",
    "# memprint seklaligus menghitung pembagian f1 dan f2\n",
    "print('{} / {} = {}'.format(f1, f2, f1 / f2))"
   ]
  },
  {
   "attachments": {},
   "cell_type": "markdown",
   "metadata": {},
   "source": [
    "6: Tulis program Python yang akan menghitung luas dari segitiga dengan alas dan tinggi yang kamu inputkan!"
   ]
  },
  {
   "cell_type": "code",
   "execution_count": null,
   "metadata": {},
   "outputs": [],
   "source": [
    "b = int(input(\"Input alas : \"))\n",
    "h = int(input(\"Input tinggi : \"))\n",
    "\n",
    "luas = b*h/2\n",
    "\n",
    "print(\"luas = \", luas)"
   ]
  },
  {
   "cell_type": "code",
   "execution_count": null,
   "metadata": {},
   "outputs": [],
   "source": [
    "# Kerjakan Study Drill 6 di sini\n",
    "\n",
    "# memasukkan variabel \"b\" yaitu alas segitiga\n",
    "b = int(input(\"Input alas : \"))\n",
    "\n",
    "# memasukkan variabel \"h\" yaitu tinggi segitiga\n",
    "h = int(input(\"Input tinggi : \"))\n",
    "\n",
    "# menghitung hasil luas segituga dengan rumus alas (b) dikali tinggi (h) dibagi 2\n",
    "luas = b*h/2\n",
    "\n",
    "# mem-print hasil penghitungan luas dari rumus di atas\n",
    "print(\"luas = \", luas)"
   ]
  },
  {
   "attachments": {},
   "cell_type": "markdown",
   "metadata": {},
   "source": [
    "7: Tulis program Python yang dapat menghitung luas permukaan dan volume dari Tabung!"
   ]
  },
  {
   "cell_type": "code",
   "execution_count": null,
   "metadata": {},
   "outputs": [],
   "source": [
    "pi=22/7\n",
    "tinggi = float(input('Tinggi dari Tabung: '))\n",
    "jarijari = float(input('Jari-jari dari Tabung: '))\n",
    "volume = pi * jarijari * jarijari * tinggi\n",
    "lp = ((2*pi*jarijari) * tinggi) + ((pi*jarijari**2)*2)\n",
    "print(\"Volume tabung adalah: \", volume)\n",
    "print(\"Luas permukaan tabung adalah: \", lp)"
   ]
  },
  {
   "cell_type": "code",
   "execution_count": null,
   "metadata": {},
   "outputs": [],
   "source": [
    "# Kerjakan Study Drill 7 di sini\n",
    "\n",
    "# Memasukkan atau meng-input nilai pi \n",
    "pi=22/7\n",
    "\n",
    "# Membuat variabel tinggi yang digunakan untuk meng-input nilai tinggi tabung dengan menggunakan float karena berupa angka desimal atau pecahan\n",
    "tinggi = float(input('Tinggi dari Tabung: '))\n",
    "\n",
    "#  Membuat variabel jari-jari yang digunakan untuk meng-input nilai jari-jari tabung dengan menggunakan float karena berupa angka desimal atau pecahan\n",
    "jarijari = float(input('Jari-jari dari Tabung: '))\n",
    "\n",
    "# Menghitung nilai volume dengan rumus pi dikali jari-jari dikali tinggi tabung\n",
    "volume = pi * jarijari * jarijari * tinggi\n",
    "\n",
    "# menghitung luas permukaan dengan rumus (2 kali pi kali jari-jari dikali tinggi) ditambah (pi kali jari-jari dipangkatkan 2) lalu dikali 2\n",
    "lp = ((2*pi*jarijari) * tinggi) + ((pi*jarijari**2)*2)\n",
    "\n",
    "# mem-print nilai volume tabung\n",
    "print(\"Volume tabung adalah: \", volume)\n",
    "\n",
    "#mem-print nilai luas permukaan tabung\n",
    "print(\"Luas permukaan tabung adalah: \", lp)"
   ]
  },
  {
   "attachments": {},
   "cell_type": "markdown",
   "metadata": {},
   "source": [
    "8: Tulis program Python untuk mendapatkan akar pangkat dua dan pangkat dari nilai desimal yang diberikan!"
   ]
  },
  {
   "cell_type": "code",
   "execution_count": 11,
   "metadata": {},
   "outputs": [
    {
     "name": "stdout",
     "output_type": "stream",
     "text": [
      "Akar pangkat dua dari 1.44 adalah : 1.2\n",
      "Pangkat dua dari 1.44  adalah : 4.220695816996552825673328929\n"
     ]
    }
   ],
   "source": [
    "from decimal import *\n",
    "x = Decimal('1.44')\n",
    "print(\"Akar pangkat dua dari\",x, \"adalah :\", x.sqrt())\n",
    "print(\"Pangkat dua dari\",x, \" adalah :\", x.exp())\n"
   ]
  },
  {
   "cell_type": "code",
   "execution_count": null,
   "metadata": {},
   "outputs": [],
   "source": [
    "# Kerjakan Study Drill 8 di sini\n",
    "# import desimal \n",
    "from decimal import *\n",
    "\n",
    "# Membuat variabel x yaitu nilai desimal yang diinput \n",
    "x = Decimal('1.44')\n",
    "\n",
    "# mem-print dan menghitung hasil akar pangkat 2 dari nilai x yang dimasukkan\n",
    "print(\"Akar pangkat dua dari\",x, \"adalah :\", x.sqrt())\n",
    "\n",
    "# mem-print dan menghitung hasil pangkat dua dari nilai x yang dimasukkan\n",
    "print(\"Pangkat dua dari\",x, \" adalah :\", x.exp())"
   ]
  },
  {
   "attachments": {},
   "cell_type": "markdown",
   "metadata": {},
   "source": [
    "9: Tulis program Python yang dapat menentukan apakah benar bilangan tersebut LEBIH BESAR dari 4^4 DAN jika di-MODULUS-kan 34 hasilnya adalah 4!"
   ]
  },
  {
   "cell_type": "code",
   "execution_count": 14,
   "metadata": {},
   "outputs": [
    {
     "name": "stdout",
     "output_type": "stream",
     "text": [
      "Original Integer:\n",
      "922\n",
      "Apakah benar integer tersebut lebih besar dari 4^4 dan hasilnya 4 jika di-mod-kan dengan 34:\n",
      "True\n",
      "\n",
      "Original Integer:\n",
      "914\n",
      "Apakah benar integer tersebut lebih besar dari 4^4 dan hasilnya 4 jika di-mod-kan dengan 34:\n",
      "False\n",
      "\n",
      "Original Integer:\n",
      "854\n",
      "Apakah benar integer tersebut lebih besar dari 4^4 dan hasilnya 4 jika di-mod-kan dengan 34:\n",
      "True\n"
     ]
    }
   ],
   "source": [
    "def test(n):\n",
    "    return n % 34 == 4 and n > 4 ** 4\n",
    "\n",
    "n = 922\n",
    "print(\"Original Integer:\")\n",
    "print(n)\n",
    "print(\"Apakah benar integer tersebut lebih besar dari 4^4 dan hasilnya 4 jika di-mod-kan dengan 34:\")\n",
    "\n",
    "print(test(n))\n",
    "\n",
    "n = 914\n",
    "print(\"\\nOriginal Integer:\")\n",
    "print(n)\n",
    "print(\"Apakah benar integer tersebut lebih besar dari 4^4 dan hasilnya 4 jika di-mod-kan dengan 34:\")\n",
    "print(test(n))\n",
    "\n",
    "n = 854\n",
    "print(\"\\nOriginal Integer:\")\n",
    "print(n)\n",
    "print(\"Apakah benar integer tersebut lebih besar dari 4^4 dan hasilnya 4 jika di-mod-kan dengan 34:\")\n",
    "print(test(n))"
   ]
  },
  {
   "cell_type": "code",
   "execution_count": null,
   "metadata": {},
   "outputs": [],
   "source": [
    "# Kerjakan Study Drill 9 di sini\n",
    "## Kalian bisa coba membuktikan dengan menghitung hasil dari 4^4 dan mod 34 dari bilangan integernya\n",
    "def test(n):\n",
    "    return n % 34 == 4 and n > 4 ** 4\n",
    "\n",
    "n = 922\n",
    "print(\"Original Integer:\")\n",
    "print(n)\n",
    "print(\"Apakah benar integer tersebut lebih besar dari 4^4 dan hasilnya 4 jika di-mod-kan dengan 34:\")\n",
    "\n",
    "print(test(n))\n",
    "\n",
    "n = 914\n",
    "print(\"\\nOriginal Integer:\")\n",
    "print(n)\n",
    "print(\"Apakah benar integer tersebut lebih besar dari 4^4 dan hasilnya 4 jika di-mod-kan dengan 34:\")\n",
    "print(test(n))\n",
    "\n",
    "n = 854\n",
    "print(\"\\nOriginal Integer:\")\n",
    "print(n)\n",
    "print(\"Apakah benar integer tersebut lebih besar dari 4^4 dan hasilnya 4 jika di-mod-kan dengan 34:\")\n",
    "print(test(n))"
   ]
  },
  {
   "attachments": {},
   "cell_type": "markdown",
   "metadata": {},
   "source": [
    "10: Tulis program Python yang dapat menyimpan nama depan dan nama belakang user dan mem-print-nya dengan dibalik antara keduanya!\n"
   ]
  },
  {
   "cell_type": "code",
   "execution_count": null,
   "metadata": {},
   "outputs": [],
   "source": [
    "fname = input(\"Input your First Name : \")\n",
    "lname = input(\"Input your Last Name : \")\n",
    "print (\"Hello  \" + lname + \" \" + fname)"
   ]
  },
  {
   "cell_type": "code",
   "execution_count": null,
   "metadata": {},
   "outputs": [],
   "source": [
    "# Kerjakan Study Drill 10 di sini\n",
    "\n",
    "# Membuat variabel \"fname\" yaitu first name untuk dinput nama depan (first name)\n",
    "fname = input(\"Input your First Name : \")\n",
    "\n",
    "# embuat variabel \"lname\" yaitu last name untuk dinput nama belakang (last name)\n",
    "lname = input(\"Input your Last Name : \")\n",
    "\n",
    "# mem-print kata hello nama user yang dibalik antara nama depan dan belakang menggunakan concat string\n",
    "print (\"Hello  \" + lname + \" \" + fname)"
   ]
  }
 ],
 "metadata": {
  "kernelspec": {
   "display_name": "Python 3",
   "language": "python",
   "name": "python3"
  },
  "language_info": {
   "codemirror_mode": {
    "name": "ipython",
    "version": 3
   },
   "file_extension": ".py",
   "mimetype": "text/x-python",
   "name": "python",
   "nbconvert_exporter": "python",
   "pygments_lexer": "ipython3",
   "version": "3.11.2"
  },
  "orig_nbformat": 4
 },
 "nbformat": 4,
 "nbformat_minor": 2
}
